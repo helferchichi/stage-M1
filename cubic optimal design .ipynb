{
 "cells": [
  {
   "cell_type": "code",
   "execution_count": 1,
   "metadata": {},
   "outputs": [],
   "source": [
    "import numpy as np\n",
    "import matplotlib.pyplot as plt\n",
    "import numpy.random as rand\n",
    "from tqdm import tqdm"
   ]
  },
  {
   "cell_type": "code",
   "execution_count": 2,
   "metadata": {},
   "outputs": [],
   "source": [
    "def euler(ro, V, h, sigma=0):\n",
    "    ro = ro + h * V(ro) + sigma * 2 * np.sqrt(h) * np.random.randn(ro.shape[0])\n",
    "    return ro\n",
    "\n",
    "def Mro(ro,f):\n",
    "    # ro = matrices de forme (n,d) contenant les coordonnées des n particules qui donne la mesure empirique\n",
    "    # f fonction donnée par le problème\n",
    "    # M matrice d'information\n",
    "    n = ro.shape[0]\n",
    "    M = (f(ro).T).dot(f(ro)) / n\n",
    "    invM = np.linalg.inv(M)\n",
    "    return np.linalg.det(M), invM\n",
    "\n",
    "def Vt (f , df, invM):\n",
    "    def Vt(x):\n",
    "        n = x.shape[0]\n",
    "        vec = np.sum(df(x).dot(invM) * f(x), axis=1) / n\n",
    "        return vec\n",
    "    return Vt\n",
    "\n",
    "def flow(ro0, f, df, h, nt, sigma = 0):\n",
    "    ro = ro0\n",
    "    val_list = []\n",
    "    for i in tqdm(range(nt)):\n",
    "        val, invM = Mro(ro,f)\n",
    "        V = Vt(f, df, invM)\n",
    "        ro = euler(ro, V, h, sigma)\n",
    "        ro = np.clip(ro, 0, 1)\n",
    "        val_list.append(val)\n",
    "    return ro, val_list\n",
    "\n",
    "f = lambda x : np.array([x ,x**2, x**3]).T\n",
    "\n",
    "df = lambda x : np.array([x*0+1, 2*x, 3*x**2]).T\n"
   ]
  },
  {
   "cell_type": "code",
   "execution_count": 3,
   "metadata": {},
   "outputs": [],
   "source": [
    "ro_star = np.array([(5 - np.sqrt(5))/10, (5 + np.sqrt(5))/10, 1])\n",
    "ro_star = ro_star[:]\n",
    "opt = Mro(ro_star, f)[0]"
   ]
  },
  {
   "cell_type": "markdown",
   "metadata": {},
   "source": [
    "#### $\\sigma = 0$, $ h= 0.0002 $, 50000 pas, 100 particules"
   ]
  },
  {
   "cell_type": "code",
   "execution_count": 4,
   "metadata": {},
   "outputs": [
    {
     "name": "stderr",
     "output_type": "stream",
     "text": [
      "100%|██████████| 5000000/5000000 [34:18<00:00, 2428.53it/s]  \n"
     ]
    },
    {
     "data": {
      "image/png": "[encoded data removed]",
      "text/plain": [
       "<Figure size 432x288 with 1 Axes>"
      ]
     },
     "metadata": {
      "needs_background": "light"
     },
     "output_type": "display_data"
    },
    {
     "data": {
      "image/png": "[encoded data removed]",
      "text/plain": [
       "<Figure size 432x288 with 1 Axes>"
      ]
     },
     "metadata": {
      "needs_background": "light"
     },
     "output_type": "display_data"
    }
   ],
   "source": [
    "nt = 5000000\n",
    "h= 0.1\n",
    "sigma = 0.01 # mettre sigma à 0 pour ne pas ajouter d'entropie\n",
    "ro = np.linspace(0,1,100)\n",
    "M, invM = Mro(ro,f)\n",
    "rof, val_list = flow(ro, f, df, h, nt, sigma)\n",
    "plt.hist(rof, bins=10, density=True)\n",
    "plt.show()\n",
    "plt.plot(np.arange(nt), val_list)\n",
    "plt.plot(np.arange(nt), opt + 0 * np.arange(nt))\n",
    "plt.show()"
   ]
  },
  {
   "cell_type": "markdown",
   "metadata": {},
   "source": [
    "#### 10 particules"
   ]
  },
  {
   "cell_type": "code",
   "execution_count": null,
   "metadata": {},
   "outputs": [],
   "source": [
    "nt = 50000\n",
    "h= 0.0002\n",
    "sigma = 0\n",
    "ro1 = np.array([np.linspace(0,1,10)]).T\n",
    "M, invM = Mro(ro1,f)\n",
    "rof1 = flow(ro1, f, df, h, nt, sigma)\n",
    "print(rof1)\n",
    "plt.hist(rof1,bins = 20)"
   ]
  },
  {
   "cell_type": "markdown",
   "metadata": {},
   "source": [
    "#### 10 particules, sigma = 1"
   ]
  },
  {
   "cell_type": "code",
   "execution_count": null,
   "metadata": {},
   "outputs": [],
   "source": [
    "sigma = 1\n",
    "ro1 = np.array([np.linspace(0,1,20)]).T\n",
    "M, invM = Mro(ro1,f)\n",
    "rof2 = flow(ro1, f, df, h, nt, sigma)\n",
    "print(rof2)\n",
    "plt.hist(rof2,bins = 20)"
   ]
  },
  {
   "cell_type": "markdown",
   "metadata": {},
   "source": [
    "#### 50 particules, sigma = 1"
   ]
  },
  {
   "cell_type": "code",
   "execution_count": null,
   "metadata": {},
   "outputs": [],
   "source": [
    "sigma = 1\n",
    "ro1 = np.array([np.linspace(0,1,50)]).T\n",
    "M, invM = Mro(ro1,f)\n",
    "rof2 = flow(ro1, f, df, h, nt, sigma)\n",
    "print(rof2)\n",
    "plt.hist(rof2,bins = 20)"
   ]
  },
  {
   "cell_type": "markdown",
   "metadata": {},
   "source": [
    "#### On deplace la masse un peu vers la droite (loi uniforme sur $[0.5, 1]$), 20 particules $\\sigma =0$"
   ]
  },
  {
   "cell_type": "code",
   "execution_count": null,
   "metadata": {},
   "outputs": [],
   "source": [
    "sigma = 0\n",
    "ro05 = np.array([np.linspace(0.5,1,20)]).T\n",
    "M, invM = Mro(ro05,f)\n",
    "rof05 = flow(ro05, f, df, h, nt, sigma)\n",
    "print(rof05)\n",
    "plt.hist(rof05,bins = 20)"
   ]
  },
  {
   "cell_type": "markdown",
   "metadata": {},
   "source": [
    "#### 50 particules $\\sigma = 0$"
   ]
  },
  {
   "cell_type": "code",
   "execution_count": null,
   "metadata": {},
   "outputs": [],
   "source": [
    "sigma = 0\n",
    "ro05 = np.array([np.linspace(0.5,1,50)]).T\n",
    "M, invM = Mro(ro05,f)\n",
    "rof05 = flow(ro05, f, df, h, nt, sigma)\n",
    "print(rof05)\n",
    "plt.hist(rof05,bins = 20)"
   ]
  },
  {
   "cell_type": "markdown",
   "metadata": {},
   "source": [
    "#### Sigma = 2"
   ]
  },
  {
   "cell_type": "code",
   "execution_count": null,
   "metadata": {},
   "outputs": [],
   "source": [
    "sigma = 2\n",
    "ro05 = np.array([np.linspace(0.5,1,20)]).T\n",
    "M, invM = Mro(ro05,f)\n",
    "rof05 = flow(ro05, f, df, h, nt, sigma)\n",
    "print(rof05)\n",
    "plt.hist(rof05,bins = 20)"
   ]
  },
  {
   "cell_type": "markdown",
   "metadata": {},
   "source": [
    "#### masse un peu plus sur la droite ($[0.7,1]$)"
   ]
  },
  {
   "cell_type": "code",
   "execution_count": null,
   "metadata": {},
   "outputs": [],
   "source": [
    "sigma = 0\n",
    "ro07 = np.array([np.linspace(0.7,1,20)]).T\n",
    "M, invM = Mro(ro07,f)\n",
    "rof07 = flow(ro07, f, df, h, nt, sigma)\n",
    "print(rof07)\n",
    "plt.hist(rof07,bins = 20)"
   ]
  },
  {
   "cell_type": "code",
   "execution_count": null,
   "metadata": {},
   "outputs": [],
   "source": [
    "sigma = 0\n",
    "ro05 = np.array([np.linspace(0.5,1,50)]).T\n",
    "M, invM = Mro(ro05,f)\n",
    "rof05 = flow(ro05, f, df, h, nt, sigma)\n",
    "print(rof05)\n",
    "plt.hist(rof05,bins = 20)"
   ]
  },
  {
   "cell_type": "code",
   "execution_count": null,
   "metadata": {},
   "outputs": [],
   "source": []
  }
 ],
 "metadata": {
  "kernelspec": {
   "display_name": "Python 3",
   "language": "python",
   "name": "python3"
  },
  "language_info": {
   "codemirror_mode": {
    "name": "ipython",
    "version": 3
   },
   "file_extension": ".py",
   "mimetype": "text/x-python",
   "name": "python",
   "nbconvert_exporter": "python",
   "pygments_lexer": "ipython3",
   "version": "3.6.10"
  }
 },
 "nbformat": 4,
 "nbformat_minor": 2
}
