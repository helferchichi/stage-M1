{
 "cells": [
  {
   "cell_type": "code",
   "execution_count": 5,
   "metadata": {},
   "outputs": [],
   "source": [
    "import numpy as np\n",
    "import matplotlib.pyplot as plt\n",
    "import numpy.random as rand"
   ]
  },
  {
   "cell_type": "code",
   "execution_count": 10,
   "metadata": {},
   "outputs": [],
   "source": [
    "def euler(ro0, V, h):\n",
    "    n = np.size(ro0)\n",
    "    ro = 0* ro0\n",
    "    for i in range(n):\n",
    "        ro[i] = ro0[i] + V(ro0[i])*h\n",
    "    return ro\n",
    "\n",
    "def Mro(ro,f):\n",
    "    # ro = matrices de forme (n,d) contenant les coordonnées des n particules qui donne la mesure empirique\n",
    "    # f fonction donnée par le problème\n",
    "    # M matrice d'information\n",
    "    (n1,n2) = ro.shape\n",
    "    n = np.size(f(1))\n",
    "    M = np.zeros((n,n))\n",
    "    for i in range(n1):\n",
    "        X = f(ro[i])\n",
    "        M = M + np.dot(X,X.T)\n",
    "    M = M/n1\n",
    "    invM = np.linalg.inv(M)\n",
    "    return M, invM\n",
    "\n",
    "def Vt (f , df, invM, sigma = 0):\n",
    "    Vt = lambda x: 2*(x<=1)*(x>=0)*df(x).dot(invM).dot(f(x)) + sigma*rand.normal()\n",
    "    return Vt\n",
    "\n",
    "def flow(ro0, f, df, h, nt, sigma = 0):\n",
    "    ro = ro0\n",
    "    for i in range(nt):\n",
    "        M, invM = Mro(ro,f)\n",
    "        V = Vt(f, df, invM, sigma)\n",
    "        ro = euler(ro, V, h)\n",
    "    return ro\n",
    "\n",
    "f = lambda x : np.array([x ,x**2, x**3])\n",
    "\n",
    "df = lambda x : np.array([1, 2*x, 3*x**2])\n"
   ]
  },
  {
   "cell_type": "markdown",
   "metadata": {},
   "source": [
    "#### $\\sigma = 0$, $ h= 0.0002 $, 50000 pas, 100 particules"
   ]
  },
  {
   "cell_type": "code",
   "execution_count": 17,
   "metadata": {},
   "outputs": [
    {
     "name": "stdout",
     "output_type": "stream",
     "text": [
      "[[0.        ]\n",
      " [0.27987901]\n",
      " [0.27987901]\n",
      " [0.27987901]\n",
      " [0.27987901]\n",
      " [0.27987901]\n",
      " [0.27987901]\n",
      " [0.27987901]\n",
      " [0.27987901]\n",
      " [0.27987901]\n",
      " [0.27987901]\n",
      " [0.27987901]\n",
      " [0.27987901]\n",
      " [0.27987901]\n",
      " [0.27987901]\n",
      " [0.27987901]\n",
      " [0.27987901]\n",
      " [0.27987901]\n",
      " [0.27987901]\n",
      " [0.27987901]\n",
      " [0.27987901]\n",
      " [0.27987901]\n",
      " [0.27987901]\n",
      " [0.27987901]\n",
      " [0.27987901]\n",
      " [0.27987901]\n",
      " [0.27987901]\n",
      " [0.27987901]\n",
      " [0.27987901]\n",
      " [0.27987901]\n",
      " [0.27987901]\n",
      " [0.27987901]\n",
      " [0.27987901]\n",
      " [0.27987901]\n",
      " [0.27987901]\n",
      " [0.27987901]\n",
      " [0.27987901]\n",
      " [0.27987901]\n",
      " [0.27987901]\n",
      " [0.27987901]\n",
      " [0.27987901]\n",
      " [0.27987901]\n",
      " [0.27987901]\n",
      " [0.27987901]\n",
      " [0.27987901]\n",
      " [0.27987901]\n",
      " [0.73234024]\n",
      " [0.73234024]\n",
      " [0.73234024]\n",
      " [0.73234024]\n",
      " [0.73234024]\n",
      " [0.73234024]\n",
      " [0.73234024]\n",
      " [0.73234024]\n",
      " [0.73234024]\n",
      " [0.73234024]\n",
      " [0.73234024]\n",
      " [0.73234024]\n",
      " [0.73234024]\n",
      " [0.73234024]\n",
      " [0.73234024]\n",
      " [0.73234024]\n",
      " [0.73234024]\n",
      " [0.73234024]\n",
      " [0.73234024]\n",
      " [0.73234024]\n",
      " [0.73234024]\n",
      " [0.73234024]\n",
      " [0.73234024]\n",
      " [0.73234024]\n",
      " [0.73234024]\n",
      " [0.73234024]\n",
      " [0.73234024]\n",
      " [0.73234024]\n",
      " [0.73234024]\n",
      " [0.73234024]\n",
      " [0.73234024]\n",
      " [0.73234024]\n",
      " [0.73234024]\n",
      " [0.73234024]\n",
      " [0.73234024]\n",
      " [0.73234024]\n",
      " [0.73234024]\n",
      " [0.73234024]\n",
      " [0.73234024]\n",
      " [1.01152588]\n",
      " [1.01071652]\n",
      " [1.00343149]\n",
      " [1.00471857]\n",
      " [1.00049176]\n",
      " [1.01507232]\n",
      " [1.01047268]\n",
      " [1.01075184]\n",
      " [1.0011249 ]\n",
      " [1.00436748]\n",
      " [1.00254465]\n",
      " [1.02092245]\n",
      " [1.00964001]\n",
      " [1.0242655 ]\n",
      " [1.03935982]]\n"
     ]
    }
   ],
   "source": [
    "nt = 50000\n",
    "h= 0.0002\n",
    "sigma = 0 # mettre sigma à 0 pour ne pas ajouter d'entropie\n",
    "f = lambda x : np.array([x ,x**2, x**3])\n",
    "df = lambda x : np.array([1, 2*x, 3*x**2])\n",
    "ro = np.array([np.linspace(0,1,100)]).T\n",
    "M, invM = Mro(ro,f)\n",
    "rof = flow(ro, f, df, h, nt, sigma)\n",
    "print(rof)"
   ]
  },
  {
   "cell_type": "code",
   "execution_count": 18,
   "metadata": {},
   "outputs": [
    {
     "data": {
      "text/plain": [
       "(array([ 1.,  0.,  0.,  0.,  0., 45.,  0.,  0.,  0.,  0.,  0.,  0.,  0.,\n",
       "         0., 39.,  0.,  0.,  0.,  0., 15.]),\n",
       " array([0.        , 0.05196799, 0.10393598, 0.15590397, 0.20787196,\n",
       "        0.25983995, 0.31180795, 0.36377594, 0.41574393, 0.46771192,\n",
       "        0.51967991, 0.5716479 , 0.62361589, 0.67558388, 0.72755187,\n",
       "        0.77951986, 0.83148786, 0.88345585, 0.93542384, 0.98739183,\n",
       "        1.03935982]),\n",
       " <a list of 20 Patch objects>)"
      ]
     },
     "execution_count": 18,
     "metadata": {},
     "output_type": "execute_result"
    },
    {
     "data": {
      "image/png": "[encoded data removed]",
      "text/plain": [
       "<Figure size 432x288 with 1 Axes>"
      ]
     },
     "metadata": {
      "needs_background": "light"
     },
     "output_type": "display_data"
    }
   ],
   "source": [
    "plt.hist(rof,bins = 20)"
   ]
  },
  {
   "cell_type": "markdown",
   "metadata": {},
   "source": [
    "#### 10 particules"
   ]
  },
  {
   "cell_type": "code",
   "execution_count": 11,
   "metadata": {},
   "outputs": [
    {
     "name": "stdout",
     "output_type": "stream",
     "text": [
      "[[0.        ]\n",
      " [0.28051938]\n",
      " [0.28051938]\n",
      " [0.28051938]\n",
      " [0.28051938]\n",
      " [0.73403508]\n",
      " [0.73403508]\n",
      " [0.73403508]\n",
      " [1.00580237]\n",
      " [1.02209322]]\n"
     ]
    },
    {
     "data": {
      "text/plain": [
       "(array([1., 0., 0., 0., 0., 4., 0., 0., 0., 0., 0., 0., 0., 0., 3., 0., 0.,\n",
       "        0., 0., 2.]),\n",
       " array([0.        , 0.05110466, 0.10220932, 0.15331398, 0.20441864,\n",
       "        0.25552331, 0.30662797, 0.35773263, 0.40883729, 0.45994195,\n",
       "        0.51104661, 0.56215127, 0.61325593, 0.6643606 , 0.71546526,\n",
       "        0.76656992, 0.81767458, 0.86877924, 0.9198839 , 0.97098856,\n",
       "        1.02209322]),\n",
       " <a list of 20 Patch objects>)"
      ]
     },
     "execution_count": 11,
     "metadata": {},
     "output_type": "execute_result"
    },
    {
     "data": {
      "image/png": "[encoded data removed]",
      "text/plain": [
       "<Figure size 432x288 with 1 Axes>"
      ]
     },
     "metadata": {
      "needs_background": "light"
     },
     "output_type": "display_data"
    }
   ],
   "source": [
    "nt = 50000\n",
    "h= 0.0002\n",
    "sigma = 0\n",
    "ro1 = np.array([np.linspace(0,1,10)]).T\n",
    "M, invM = Mro(ro1,f)\n",
    "rof1 = flow(ro1, f, df, h, nt, sigma)\n",
    "print(rof1)\n",
    "plt.hist(rof1,bins = 20)"
   ]
  },
  {
   "cell_type": "markdown",
   "metadata": {},
   "source": [
    "#### 10 particules, sigma = 1"
   ]
  },
  {
   "cell_type": "code",
   "execution_count": 15,
   "metadata": {},
   "outputs": [
    {
     "name": "stdout",
     "output_type": "stream",
     "text": [
      "[[0.29801173]\n",
      " [0.29413879]\n",
      " [0.29518832]\n",
      " [0.29467096]\n",
      " [0.29517897]\n",
      " [0.29600839]\n",
      " [0.29749835]\n",
      " [0.29679158]\n",
      " [0.29629368]\n",
      " [0.77273865]\n",
      " [0.77342191]\n",
      " [0.77206972]\n",
      " [0.77391168]\n",
      " [0.7742196 ]\n",
      " [0.77452119]\n",
      " [0.77289564]\n",
      " [0.77479493]\n",
      " [1.03280277]\n",
      " [1.07011613]\n",
      " [1.09250468]]\n"
     ]
    },
    {
     "data": {
      "text/plain": [
       "(array([9., 0., 0., 0., 0., 0., 0., 0., 0., 0., 0., 3., 5., 0., 0., 0., 0.,\n",
       "        0., 1., 2.]),\n",
       " array([0.29413879, 0.33405708, 0.37397538, 0.41389367, 0.45381197,\n",
       "        0.49373026, 0.53364855, 0.57356685, 0.61348514, 0.65340344,\n",
       "        0.69332173, 0.73324003, 0.77315832, 0.81307662, 0.85299491,\n",
       "        0.89291321, 0.9328315 , 0.9727498 , 1.01266809, 1.05258639,\n",
       "        1.09250468]),\n",
       " <a list of 20 Patch objects>)"
      ]
     },
     "execution_count": 15,
     "metadata": {},
     "output_type": "execute_result"
    },
    {
     "data": {
      "image/png": "[encoded data removed]",
      "text/plain": [
       "<Figure size 432x288 with 1 Axes>"
      ]
     },
     "metadata": {
      "needs_background": "light"
     },
     "output_type": "display_data"
    }
   ],
   "source": [
    "sigma = 1\n",
    "ro1 = np.array([np.linspace(0,1,20)]).T\n",
    "M, invM = Mro(ro1,f)\n",
    "rof2 = flow(ro1, f, df, h, nt, sigma)\n",
    "print(rof2)\n",
    "plt.hist(rof2,bins = 20)"
   ]
  },
  {
   "cell_type": "markdown",
   "metadata": {},
   "source": [
    "#### 50 particules, sigma = 1"
   ]
  },
  {
   "cell_type": "code",
   "execution_count": 16,
   "metadata": {},
   "outputs": [
    {
     "name": "stdout",
     "output_type": "stream",
     "text": [
      "[[0.2907181 ]\n",
      " [0.29485338]\n",
      " [0.28989413]\n",
      " [0.28903836]\n",
      " [0.29212156]\n",
      " [0.29086696]\n",
      " [0.29265098]\n",
      " [0.29365384]\n",
      " [0.28948865]\n",
      " [0.29193443]\n",
      " [0.29296641]\n",
      " [0.29127195]\n",
      " [0.29289965]\n",
      " [0.29298415]\n",
      " [0.29024437]\n",
      " [0.29302311]\n",
      " [0.2933456 ]\n",
      " [0.29068846]\n",
      " [0.29127206]\n",
      " [0.29095419]\n",
      " [0.29182915]\n",
      " [0.28963518]\n",
      " [0.29214314]\n",
      " [0.75909114]\n",
      " [0.7605562 ]\n",
      " [0.76005008]\n",
      " [0.75892722]\n",
      " [0.7630417 ]\n",
      " [0.76138328]\n",
      " [0.76130087]\n",
      " [0.75865333]\n",
      " [0.76346908]\n",
      " [0.76003106]\n",
      " [0.7605104 ]\n",
      " [0.76089074]\n",
      " [0.76015472]\n",
      " [0.76314674]\n",
      " [0.76325651]\n",
      " [0.76324779]\n",
      " [0.75921859]\n",
      " [0.76149541]\n",
      " [0.7614621 ]\n",
      " [1.03877643]\n",
      " [1.021322  ]\n",
      " [1.07426471]\n",
      " [1.0100553 ]\n",
      " [1.06038604]\n",
      " [1.01783017]\n",
      " [1.08665603]\n",
      " [1.0678529 ]]\n"
     ]
    },
    {
     "data": {
      "text/plain": [
       "(array([23.,  0.,  0.,  0.,  0.,  0.,  0.,  0.,  0.,  0.,  0., 19.,  0.,\n",
       "         0.,  0.,  0.,  0.,  0.,  4.,  4.]),\n",
       " array([0.28903836, 0.32891924, 0.36880012, 0.40868101, 0.44856189,\n",
       "        0.48844277, 0.52832366, 0.56820454, 0.60808543, 0.64796631,\n",
       "        0.68784719, 0.72772808, 0.76760896, 0.80748984, 0.84737073,\n",
       "        0.88725161, 0.9271325 , 0.96701338, 1.00689426, 1.04677515,\n",
       "        1.08665603]),\n",
       " <a list of 20 Patch objects>)"
      ]
     },
     "execution_count": 16,
     "metadata": {},
     "output_type": "execute_result"
    },
    {
     "data": {
      "image/png": "[encoded data removed]",
      "text/plain": [
       "<Figure size 432x288 with 1 Axes>"
      ]
     },
     "metadata": {
      "needs_background": "light"
     },
     "output_type": "display_data"
    }
   ],
   "source": [
    "sigma = 1\n",
    "ro1 = np.array([np.linspace(0,1,50)]).T\n",
    "M, invM = Mro(ro1,f)\n",
    "rof2 = flow(ro1, f, df, h, nt, sigma)\n",
    "print(rof2)\n",
    "plt.hist(rof2,bins = 20)"
   ]
  },
  {
   "cell_type": "markdown",
   "metadata": {},
   "source": [
    "#### On deplace la masse un peu vers la droite (loi uniforme sur $[0.5, 1]$), 20 particules $\\sigma =0$"
   ]
  },
  {
   "cell_type": "code",
   "execution_count": 17,
   "metadata": {},
   "outputs": [
    {
     "name": "stdout",
     "output_type": "stream",
     "text": [
      "[[0.27994099]\n",
      " [0.27994099]\n",
      " [0.27994099]\n",
      " [0.27994099]\n",
      " [0.27994099]\n",
      " [0.27994099]\n",
      " [0.73213145]\n",
      " [0.73213145]\n",
      " [0.73213145]\n",
      " [0.73213145]\n",
      " [0.73213145]\n",
      " [0.73213145]\n",
      " [0.73213145]\n",
      " [0.73213145]\n",
      " [0.73213145]\n",
      " [1.00327607]\n",
      " [1.00480436]\n",
      " [1.00333894]\n",
      " [1.01026495]\n",
      " [1.03348121]]\n"
     ]
    },
    {
     "data": {
      "text/plain": [
       "(array([6., 0., 0., 0., 0., 0., 0., 0., 0., 0., 0., 0., 9., 0., 0., 0., 0.,\n",
       "        0., 0., 5.]),\n",
       " array([0.27994099, 0.317618  , 0.35529501, 0.39297202, 0.43064903,\n",
       "        0.46832605, 0.50600306, 0.54368007, 0.58135708, 0.61903409,\n",
       "        0.6567111 , 0.69438811, 0.73206512, 0.76974213, 0.80741915,\n",
       "        0.84509616, 0.88277317, 0.92045018, 0.95812719, 0.9958042 ,\n",
       "        1.03348121]),\n",
       " <a list of 20 Patch objects>)"
      ]
     },
     "execution_count": 17,
     "metadata": {},
     "output_type": "execute_result"
    },
    {
     "data": {
      "image/png": "[encoded data removed]",
      "text/plain": [
       "<Figure size 432x288 with 1 Axes>"
      ]
     },
     "metadata": {
      "needs_background": "light"
     },
     "output_type": "display_data"
    }
   ],
   "source": [
    "sigma = 0\n",
    "ro05 = np.array([np.linspace(0.5,1,20)]).T\n",
    "M, invM = Mro(ro05,f)\n",
    "rof05 = flow(ro05, f, df, h, nt, sigma)\n",
    "print(rof05)\n",
    "plt.hist(rof05,bins = 20)"
   ]
  },
  {
   "cell_type": "markdown",
   "metadata": {},
   "source": [
    "#### 50 particules $\\sigma = 0$"
   ]
  },
  {
   "cell_type": "code",
   "execution_count": 18,
   "metadata": {},
   "outputs": [
    {
     "name": "stdout",
     "output_type": "stream",
     "text": [
      "[[0.27937343]\n",
      " [0.27937343]\n",
      " [0.27937343]\n",
      " [0.27937343]\n",
      " [0.27937343]\n",
      " [0.27937343]\n",
      " [0.27937343]\n",
      " [0.27937343]\n",
      " [0.27937343]\n",
      " [0.27937343]\n",
      " [0.27937343]\n",
      " [0.27937343]\n",
      " [0.27937343]\n",
      " [0.27937343]\n",
      " [0.73080666]\n",
      " [0.73080666]\n",
      " [0.73080666]\n",
      " [0.73080666]\n",
      " [0.73080666]\n",
      " [0.73080666]\n",
      " [0.73080666]\n",
      " [0.73080666]\n",
      " [0.73080666]\n",
      " [0.73080666]\n",
      " [0.73080666]\n",
      " [0.73080666]\n",
      " [0.73080666]\n",
      " [0.73080666]\n",
      " [0.73080666]\n",
      " [0.73080666]\n",
      " [0.73080666]\n",
      " [0.73080666]\n",
      " [0.73080666]\n",
      " [0.73080666]\n",
      " [0.73080666]\n",
      " [0.73080666]\n",
      " [0.73080666]\n",
      " [0.73080666]\n",
      " [1.00426402]\n",
      " [1.00436382]\n",
      " [1.00367368]\n",
      " [1.00832025]\n",
      " [1.00130654]\n",
      " [1.00065608]\n",
      " [1.00944209]\n",
      " [1.00481372]\n",
      " [1.00870619]\n",
      " [1.00576094]\n",
      " [1.02194874]\n",
      " [1.03901009]]\n"
     ]
    },
    {
     "data": {
      "text/plain": [
       "(array([14.,  0.,  0.,  0.,  0.,  0.,  0.,  0.,  0.,  0.,  0., 24.,  0.,\n",
       "         0.,  0.,  0.,  0.,  0.,  1., 11.]),\n",
       " array([0.27937343, 0.31735526, 0.35533709, 0.39331893, 0.43130076,\n",
       "        0.46928259, 0.50726443, 0.54524626, 0.58322809, 0.62120992,\n",
       "        0.65919176, 0.69717359, 0.73515542, 0.77313726, 0.81111909,\n",
       "        0.84910092, 0.88708276, 0.92506459, 0.96304642, 1.00102825,\n",
       "        1.03901009]),\n",
       " <a list of 20 Patch objects>)"
      ]
     },
     "execution_count": 18,
     "metadata": {},
     "output_type": "execute_result"
    },
    {
     "data": {
      "image/png": "[encoded data removed]",
      "text/plain": [
       "<Figure size 432x288 with 1 Axes>"
      ]
     },
     "metadata": {
      "needs_background": "light"
     },
     "output_type": "display_data"
    }
   ],
   "source": [
    "sigma = 0\n",
    "ro05 = np.array([np.linspace(0.5,1,50)]).T\n",
    "M, invM = Mro(ro05,f)\n",
    "rof05 = flow(ro05, f, df, h, nt, sigma)\n",
    "print(rof05)\n",
    "plt.hist(rof05,bins = 20)"
   ]
  },
  {
   "cell_type": "markdown",
   "metadata": {},
   "source": [
    "#### Sigma = 2"
   ]
  },
  {
   "cell_type": "code",
   "execution_count": 24,
   "metadata": {},
   "outputs": [
    {
     "name": "stdout",
     "output_type": "stream",
     "text": [
      "[[0.29089967]\n",
      " [0.29446299]\n",
      " [0.2878807 ]\n",
      " [0.29023408]\n",
      " [0.28896077]\n",
      " [0.29200348]\n",
      " [0.75676707]\n",
      " [0.75673971]\n",
      " [0.7587475 ]\n",
      " [0.75503464]\n",
      " [0.75265517]\n",
      " [0.75343222]\n",
      " [0.75625332]\n",
      " [0.75302135]\n",
      " [0.75194162]\n",
      " [1.028451  ]\n",
      " [1.00351554]\n",
      " [1.03273808]\n",
      " [1.08999199]\n",
      " [1.0383089 ]]\n"
     ]
    },
    {
     "data": {
      "text/plain": [
       "(array([6., 0., 0., 0., 0., 0., 0., 0., 0., 0., 0., 9., 0., 0., 0., 0., 0.,\n",
       "        1., 3., 1.]),\n",
       " array([0.2878807 , 0.32798626, 0.36809183, 0.40819739, 0.44830296,\n",
       "        0.48840852, 0.52851409, 0.56861965, 0.60872522, 0.64883078,\n",
       "        0.68893635, 0.72904191, 0.76914748, 0.80925304, 0.8493586 ,\n",
       "        0.88946417, 0.92956973, 0.9696753 , 1.00978086, 1.04988643,\n",
       "        1.08999199]),\n",
       " <a list of 20 Patch objects>)"
      ]
     },
     "execution_count": 24,
     "metadata": {},
     "output_type": "execute_result"
    },
    {
     "data": {
      "image/png": "[encoded data removed]",
      "text/plain": [
       "<Figure size 432x288 with 1 Axes>"
      ]
     },
     "metadata": {
      "needs_background": "light"
     },
     "output_type": "display_data"
    }
   ],
   "source": [
    "sigma = 2\n",
    "ro05 = np.array([np.linspace(0.5,1,20)]).T\n",
    "M, invM = Mro(ro05,f)\n",
    "rof05 = flow(ro05, f, df, h, nt, sigma)\n",
    "print(rof05)\n",
    "plt.hist(rof05,bins = 20)"
   ]
  },
  {
   "cell_type": "markdown",
   "metadata": {},
   "source": [
    "#### masse un peu plus sur la droite ($[0.7,1]$)"
   ]
  },
  {
   "cell_type": "code",
   "execution_count": 25,
   "metadata": {},
   "outputs": [
    {
     "name": "stdout",
     "output_type": "stream",
     "text": [
      "[[0.28112129]\n",
      " [0.28112129]\n",
      " [0.28112129]\n",
      " [0.28112129]\n",
      " [0.28112129]\n",
      " [0.73415416]\n",
      " [0.73415416]\n",
      " [0.73415416]\n",
      " [0.73415416]\n",
      " [0.73415416]\n",
      " [0.73415416]\n",
      " [0.73415416]\n",
      " [0.73415416]\n",
      " [0.73415416]\n",
      " [1.0051537 ]\n",
      " [1.00038858]\n",
      " [1.00868447]\n",
      " [1.00566913]\n",
      " [1.01374969]\n",
      " [1.04770952]]\n"
     ]
    },
    {
     "data": {
      "text/plain": [
       "(array([5., 0., 0., 0., 0., 0., 0., 0., 0., 0., 0., 9., 0., 0., 0., 0., 0.,\n",
       "        0., 4., 2.]),\n",
       " array([0.28112129, 0.3194507 , 0.35778011, 0.39610952, 0.43443893,\n",
       "        0.47276835, 0.51109776, 0.54942717, 0.58775658, 0.62608599,\n",
       "        0.6644154 , 0.70274481, 0.74107423, 0.77940364, 0.81773305,\n",
       "        0.85606246, 0.89439187, 0.93272128, 0.97105069, 1.00938011,\n",
       "        1.04770952]),\n",
       " <a list of 20 Patch objects>)"
      ]
     },
     "execution_count": 25,
     "metadata": {},
     "output_type": "execute_result"
    },
    {
     "data": {
      "image/png": "[encoded data removed]",
      "text/plain": [
       "<Figure size 432x288 with 1 Axes>"
      ]
     },
     "metadata": {
      "needs_background": "light"
     },
     "output_type": "display_data"
    }
   ],
   "source": [
    "sigma = 0\n",
    "ro07 = np.array([np.linspace(0.7,1,20)]).T\n",
    "M, invM = Mro(ro07,f)\n",
    "rof07 = flow(ro07, f, df, h, nt, sigma)\n",
    "print(rof07)\n",
    "plt.hist(rof07,bins = 20)"
   ]
  },
  {
   "cell_type": "code",
   "execution_count": 26,
   "metadata": {},
   "outputs": [
    {
     "name": "stdout",
     "output_type": "stream",
     "text": [
      "[[0.27937343]\n",
      " [0.27937343]\n",
      " [0.27937343]\n",
      " [0.27937343]\n",
      " [0.27937343]\n",
      " [0.27937343]\n",
      " [0.27937343]\n",
      " [0.27937343]\n",
      " [0.27937343]\n",
      " [0.27937343]\n",
      " [0.27937343]\n",
      " [0.27937343]\n",
      " [0.27937343]\n",
      " [0.27937343]\n",
      " [0.73080666]\n",
      " [0.73080666]\n",
      " [0.73080666]\n",
      " [0.73080666]\n",
      " [0.73080666]\n",
      " [0.73080666]\n",
      " [0.73080666]\n",
      " [0.73080666]\n",
      " [0.73080666]\n",
      " [0.73080666]\n",
      " [0.73080666]\n",
      " [0.73080666]\n",
      " [0.73080666]\n",
      " [0.73080666]\n",
      " [0.73080666]\n",
      " [0.73080666]\n",
      " [0.73080666]\n",
      " [0.73080666]\n",
      " [0.73080666]\n",
      " [0.73080666]\n",
      " [0.73080666]\n",
      " [0.73080666]\n",
      " [0.73080666]\n",
      " [0.73080666]\n",
      " [1.00426402]\n",
      " [1.00436382]\n",
      " [1.00367368]\n",
      " [1.00832025]\n",
      " [1.00130654]\n",
      " [1.00065608]\n",
      " [1.00944209]\n",
      " [1.00481372]\n",
      " [1.00870619]\n",
      " [1.00576094]\n",
      " [1.02194874]\n",
      " [1.03901009]]\n"
     ]
    },
    {
     "data": {
      "text/plain": [
       "(array([14.,  0.,  0.,  0.,  0.,  0.,  0.,  0.,  0.,  0.,  0., 24.,  0.,\n",
       "         0.,  0.,  0.,  0.,  0.,  1., 11.]),\n",
       " array([0.27937343, 0.31735526, 0.35533709, 0.39331893, 0.43130076,\n",
       "        0.46928259, 0.50726443, 0.54524626, 0.58322809, 0.62120992,\n",
       "        0.65919176, 0.69717359, 0.73515542, 0.77313726, 0.81111909,\n",
       "        0.84910092, 0.88708276, 0.92506459, 0.96304642, 1.00102825,\n",
       "        1.03901009]),\n",
       " <a list of 20 Patch objects>)"
      ]
     },
     "execution_count": 26,
     "metadata": {},
     "output_type": "execute_result"
    },
    {
     "data": {
      "image/png": "[encoded data removed]",
      "text/plain": [
       "<Figure size 432x288 with 1 Axes>"
      ]
     },
     "metadata": {
      "needs_background": "light"
     },
     "output_type": "display_data"
    }
   ],
   "source": [
    "sigma = 0\n",
    "ro05 = np.array([np.linspace(0.5,1,50)]).T\n",
    "M, invM = Mro(ro05,f)\n",
    "rof05 = flow(ro05, f, df, h, nt, sigma)\n",
    "print(rof05)\n",
    "plt.hist(rof05,bins = 20)"
   ]
  },
  {
   "cell_type": "code",
   "execution_count": null,
   "metadata": {},
   "outputs": [],
   "source": []
  }
 ],
 "metadata": {
  "kernelspec": {
   "display_name": "Python 3",
   "language": "python",
   "name": "python3"
  },
  "language_info": {
   "codemirror_mode": {
    "name": "ipython",
    "version": 3
   },
   "file_extension": ".py",
   "mimetype": "text/x-python",
   "name": "python",
   "nbconvert_exporter": "python",
   "pygments_lexer": "ipython3",
   "version": "3.7.1"
  }
 },
 "nbformat": 4,
 "nbformat_minor": 2
}
