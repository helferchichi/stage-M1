{
 "cells": [
  {
   "cell_type": "code",
   "execution_count": 1,
   "metadata": {},
   "outputs": [],
   "source": [
    "import numpy as np\n",
    "import matplotlib.pyplot as plt\n",
    "import numpy.random as rand"
   ]
  },
  {
   "cell_type": "code",
   "execution_count": 6,
   "metadata": {},
   "outputs": [],
   "source": [
    "def euler(ro0, V):\n",
    "    n = np.size(ro0)\n",
    "    for i in range(n):\n",
    "        ro[i] = ro0[i] + V(ro0[i])*T/nt\n",
    "    return ro\n",
    "\n",
    "def Mro(ro,f):\n",
    "    # ro = matrices de forme (n,d) contenant les coordonnées des n particules qui donne la mesure empirique\n",
    "    # f fonction donnée par le problème\n",
    "    # M matrice d'information\n",
    "    (n1,n2) = ro.shape\n",
    "    n = np.size(f(1))\n",
    "    M = np.zeros((n,n))\n",
    "    for i in range(n1):\n",
    "        X = f(ro[i])\n",
    "        M = M + np.dot(X,X.T)\n",
    "    M = M/n1\n",
    "    invM = np.linalg.inv(M)\n",
    "    return M, invM\n",
    "\n",
    "def Vt (f , df, invM, sigma = 0):\n",
    "    Vt = lambda x: 2*(x<=1.5)*(x>=0)*df(x).dot(invM).dot(f(x)) + sigma*rand.normal()\n",
    "    return Vt\n",
    "\n",
    "def flow(ro0, f, df, T, nt, sigma = 0):\n",
    "    ro = ro0\n",
    "    for i in range(nt):\n",
    "        M, invM = Mro(ro,f)\n",
    "        V = Vt(f, df, invM, sigma)\n",
    "        ro = euler(ro, V)\n",
    "    return ro"
   ]
  },
  {
   "cell_type": "code",
   "execution_count": 29,
   "metadata": {},
   "outputs": [
    {
     "name": "stdout",
     "output_type": "stream",
     "text": [
      "[[0.341012  ]\n",
      " [0.35869181]\n",
      " [0.34518403]\n",
      " [0.34644785]\n",
      " [0.35084977]\n",
      " [0.34197192]\n",
      " [0.33799739]\n",
      " [0.34614853]\n",
      " [0.34635547]\n",
      " [0.34238792]\n",
      " [0.34692404]\n",
      " [0.33999851]\n",
      " [0.34532731]\n",
      " [0.33879395]\n",
      " [0.33926509]\n",
      " [0.34101123]\n",
      " [0.34687246]\n",
      " [0.34852315]\n",
      " [0.36014696]\n",
      " [0.34428634]\n",
      " [0.33915832]\n",
      " [0.34086052]\n",
      " [0.3447323 ]\n",
      " [0.34539909]\n",
      " [0.34301447]\n",
      " [0.34153989]\n",
      " [0.34464037]\n",
      " [0.34097961]\n",
      " [0.34587141]\n",
      " [0.3422804 ]\n",
      " [0.34402488]\n",
      " [0.33738155]\n",
      " [0.33970171]\n",
      " [0.34006394]\n",
      " [0.34942481]\n",
      " [0.3439649 ]\n",
      " [0.33833712]\n",
      " [0.33808858]\n",
      " [0.35299398]\n",
      " [0.33401965]\n",
      " [0.34416053]\n",
      " [0.34113249]\n",
      " [0.3384842 ]\n",
      " [0.34590939]\n",
      " [0.35258935]\n",
      " [0.34769797]\n",
      " [0.3480886 ]\n",
      " [0.3511966 ]\n",
      " [0.3356054 ]\n",
      " [0.34799917]\n",
      " [0.35112486]\n",
      " [0.34673176]\n",
      " [0.35873091]\n",
      " [0.89249421]\n",
      " [0.89179866]\n",
      " [0.88621093]\n",
      " [0.88888046]\n",
      " [0.87927412]\n",
      " [0.88478964]\n",
      " [0.89207951]\n",
      " [0.89260331]\n",
      " [0.9007984 ]\n",
      " [0.89415208]\n",
      " [0.89511515]\n",
      " [0.88213345]\n",
      " [0.89236872]\n",
      " [0.88548756]\n",
      " [0.90467788]\n",
      " [0.88561571]\n",
      " [0.89400575]\n",
      " [0.88838878]\n",
      " [0.88207121]\n",
      " [0.89613324]\n",
      " [0.90037196]\n",
      " [0.89136052]\n",
      " [0.87613859]\n",
      " [0.88714353]\n",
      " [0.88839762]\n",
      " [1.14138686]\n",
      " [0.89298978]\n",
      " [1.18840664]\n",
      " [1.19108024]\n",
      " [0.89069705]\n",
      " [1.06032315]\n",
      " [0.89307606]\n",
      " [1.07279372]\n",
      " [0.89190616]\n",
      " [0.87960076]\n",
      " [1.07508534]\n",
      " [0.88972422]\n",
      " [0.89279281]\n",
      " [1.22004289]\n",
      " [1.19701108]\n",
      " [1.11794281]\n",
      " [0.88465852]\n",
      " [1.30529431]\n",
      " [1.18716915]\n",
      " [1.2673756 ]\n",
      " [1.29907004]\n",
      " [1.29505985]]\n"
     ]
    }
   ],
   "source": [
    "T = 10\n",
    "nt = 5000\n",
    "sigma = 1\n",
    "f = lambda x : np.array([x ,x**2, x**3])\n",
    "df = lambda x : np.array([1, 2*x, 3*x**2])\n",
    "ro = np.array([np.linspace(0,1,100)]).T\n",
    "M, invM = Mro(ro,f)\n",
    "rof = flow(ro, f, df, T, nt, sigma)\n",
    "print(rof)"
   ]
  },
  {
   "cell_type": "code",
   "execution_count": 28,
   "metadata": {},
   "outputs": [
    {
     "data": {
      "text/plain": [
       "(array([52.,  0.,  0.,  0.,  0.,  0.,  0.,  0., 13., 15.,  9.,  4.,  1.,\n",
       "         3.,  1.,  0.,  1.,  0.,  0.,  1.]),\n",
       " array([0.41093109, 0.48312277, 0.55531445, 0.62750612, 0.6996978 ,\n",
       "        0.77188948, 0.84408115, 0.91627283, 0.98846451, 1.06065618,\n",
       "        1.13284786, 1.20503954, 1.27723121, 1.34942289, 1.42161457,\n",
       "        1.49380624, 1.56599792, 1.6381896 , 1.71038127, 1.78257295,\n",
       "        1.85476463]),\n",
       " <a list of 20 Patch objects>)"
      ]
     },
     "execution_count": 28,
     "metadata": {},
     "output_type": "execute_result"
    },
    {
     "data": {
      "image/png": "[encoded data removed]",
      "text/plain": [
       "<Figure size 432x288 with 1 Axes>"
      ]
     },
     "metadata": {
      "needs_background": "light"
     },
     "output_type": "display_data"
    }
   ],
   "source": [
    "plt.hist(rof,bins = 20)"
   ]
  },
  {
   "cell_type": "code",
   "execution_count": null,
   "metadata": {},
   "outputs": [],
   "source": []
  }
 ],
 "metadata": {
  "kernelspec": {
   "display_name": "Python 3",
   "language": "python",
   "name": "python3"
  },
  "language_info": {
   "codemirror_mode": {
    "name": "ipython",
    "version": 3
   },
   "file_extension": ".py",
   "mimetype": "text/x-python",
   "name": "python",
   "nbconvert_exporter": "python",
   "pygments_lexer": "ipython3",
   "version": "3.7.1"
  }
 },
 "nbformat": 4,
 "nbformat_minor": 2
}
